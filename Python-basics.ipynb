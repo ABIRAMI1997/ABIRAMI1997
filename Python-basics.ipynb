{
 "cells": [
  {
   "cell_type": "code",
   "execution_count": 7,
   "id": "564b7343",
   "metadata": {},
   "outputs": [
    {
     "name": "stdout",
     "output_type": "stream",
     "text": [
      "For Practice\n"
     ]
    }
   ],
   "source": [
    "print(\"For Practice\")"
   ]
  },
  {
   "cell_type": "code",
   "execution_count": 8,
   "id": "1523d2b0",
   "metadata": {},
   "outputs": [
    {
     "name": "stdout",
     "output_type": "stream",
     "text": [
      "hello\n",
      "\n",
      "This is purely for practice session for my own growth\n"
     ]
    }
   ],
   "source": [
    "#strings\n",
    "print('hello')\n",
    "\n",
    "print() #Line gap\n",
    "\n",
    "print('This is purely for practice session for my own growth')"
   ]
  },
  {
   "cell_type": "code",
   "execution_count": 9,
   "id": "41a7ae64",
   "metadata": {},
   "outputs": [],
   "source": [
    "s = 'Demo session'"
   ]
  },
  {
   "cell_type": "code",
   "execution_count": 16,
   "id": "4925ead8",
   "metadata": {},
   "outputs": [
    {
     "name": "stdout",
     "output_type": "stream",
     "text": [
      "e\n",
      "n\n",
      "D\n",
      "Dem\n",
      "True\n"
     ]
    }
   ],
   "source": [
    "#String printing using index and slicing\n",
    "print(s[6])\n",
    "print(s[-1])\n",
    "print(s[0])\n",
    "print(s[0:3])\n",
    "print(\"Demo\" in s)"
   ]
  },
  {
   "cell_type": "code",
   "execution_count": 14,
   "id": "c3ad555a",
   "metadata": {},
   "outputs": [
    {
     "name": "stdout",
     "output_type": "stream",
     "text": [
      "Demo session From online Demo session From online \n"
     ]
    }
   ],
   "source": [
    "#Concatenation and repetition\n",
    "print((s +\" \"+ 'From online'+ \" \") * 2)"
   ]
  },
  {
   "cell_type": "code",
   "execution_count": 22,
   "id": "4a24c0d4",
   "metadata": {},
   "outputs": [
    {
     "data": {
      "text/plain": [
       "'DEMO SESSION demo session'"
      ]
     },
     "execution_count": 22,
     "metadata": {},
     "output_type": "execute_result"
    }
   ],
   "source": [
    "#upper and lower case variation and datatype of the object\n",
    "s.upper()+\" \"+s.lower()"
   ]
  },
  {
   "cell_type": "code",
   "execution_count": 27,
   "id": "7a08174e",
   "metadata": {},
   "outputs": [
    {
     "name": "stdout",
     "output_type": "stream",
     "text": [
      "The price is 100 in india\n",
      "The price is 100 in india\n"
     ]
    }
   ],
   "source": [
    "value = '100'\n",
    "country ='india'\n",
    "print(\"The price is %s in %s\" %(value,country))\n",
    "print(\"The price is {} in {}\" .format(value,country))"
   ]
  },
  {
   "cell_type": "code",
   "execution_count": 28,
   "id": "8db2ea15",
   "metadata": {},
   "outputs": [
    {
     "name": "stdout",
     "output_type": "stream",
     "text": [
      "3\n",
      "1\n",
      "4\n",
      "1.5\n"
     ]
    },
    {
     "data": {
      "text/plain": [
       "156"
      ]
     },
     "execution_count": 28,
     "metadata": {},
     "output_type": "execute_result"
    }
   ],
   "source": [
    "#Numbers\n",
    "print(2+1)\n",
    "\n",
    "# Subtraction\n",
    "print(2-1)\n",
    "\n",
    "# Multiplication\n",
    "print(2*2)\n",
    "\n",
    "# Division\n",
    "print(3/2)\n",
    "\n",
    "# Powers\n",
    "2**3\n",
    "\n",
    "# Can use parenthesis to specify orders\n",
    "(2+10) * (10+3)\n"
   ]
  },
  {
   "cell_type": "code",
   "execution_count": 32,
   "id": "0795f02e",
   "metadata": {},
   "outputs": [
    {
     "data": {
      "text/plain": [
       "60"
      ]
     },
     "execution_count": 32,
     "metadata": {},
     "output_type": "execute_result"
    }
   ],
   "source": [
    "# Let's create an object called \"a\" and assign it the number 5\n",
    "a = 5\n",
    "#Now if I call a in my Python script, Python will treat it as the number 5.\n",
    "\n",
    "# Adding the objects\n",
    "a+a\n",
    "#10\n",
    "#What happens on reassignment? Will Python let us write it over?\n",
    "\n",
    "# Reassignment\n",
    "a = 30\n",
    "# Check\n",
    "a+a"
   ]
  },
  {
   "cell_type": "code",
   "execution_count": 34,
   "id": "3a5c2b73",
   "metadata": {},
   "outputs": [
    {
     "name": "stdout",
     "output_type": "stream",
     "text": [
      "[1, 2, 3]\n"
     ]
    },
    {
     "data": {
      "text/plain": [
       "3"
      ]
     },
     "execution_count": 34,
     "metadata": {},
     "output_type": "execute_result"
    }
   ],
   "source": [
    "#List\n",
    "# Assign a list to an variable named my_list\n",
    "my_list = [1,2,3]\n",
    "print(my_list)\n",
    "len(my_list)"
   ]
  },
  {
   "cell_type": "code",
   "execution_count": 36,
   "id": "ca71cd6f",
   "metadata": {},
   "outputs": [
    {
     "name": "stdout",
     "output_type": "stream",
     "text": [
      "[1, 2, 3, 'exam', 'exam']\n"
     ]
    }
   ],
   "source": [
    "#Append and extend\n",
    "my_list.append(\"exam\")\n",
    "print(my_list)"
   ]
  },
  {
   "cell_type": "code",
   "execution_count": 39,
   "id": "107c5cfa",
   "metadata": {},
   "outputs": [
    {
     "name": "stdout",
     "output_type": "stream",
     "text": [
      "[1, 2, 3, 'exam', 'exam', 4, 5, 6, 4, 5, 6, 4, 5, 6]\n"
     ]
    }
   ],
   "source": [
    "my_list.extend([4, 5, 6])\n",
    "print(my_list)"
   ]
  },
  {
   "cell_type": "code",
   "execution_count": 42,
   "id": "d93b8a06",
   "metadata": {},
   "outputs": [
    {
     "data": {
      "text/plain": [
       "[3, 'exam', 5, 4]"
      ]
     },
     "execution_count": 42,
     "metadata": {},
     "output_type": "execute_result"
    }
   ],
   "source": [
    "#slicing in list\n",
    "#start-last-step\n",
    "my_list[2:10:2]\n",
    "my_list[2:1:2]"
   ]
  },
  {
   "cell_type": "code",
   "execution_count": 43,
   "id": "76bd8f64",
   "metadata": {},
   "outputs": [],
   "source": [
    "#Dictionaries\n",
    "my_dict = {'key1':'value1','key2':'value2'} "
   ]
  },
  {
   "cell_type": "code",
   "execution_count": 44,
   "id": "2bf951a2",
   "metadata": {},
   "outputs": [
    {
     "name": "stdout",
     "output_type": "stream",
     "text": [
      "{'key1': 'value1', 'key2': 'value2'}\n"
     ]
    },
    {
     "data": {
      "text/plain": [
       "'value2'"
      ]
     },
     "execution_count": 44,
     "metadata": {},
     "output_type": "execute_result"
    }
   ],
   "source": [
    "print(my_dict)\n",
    "{'key1': 'value1', 'key2': 'value2'}\n",
    "# Call values by their key\n",
    "my_dict['key2']"
   ]
  },
  {
   "cell_type": "code",
   "execution_count": 45,
   "id": "1d8839bc",
   "metadata": {},
   "outputs": [
    {
     "data": {
      "text/plain": [
       "{'key1': 123, 'key2': 'value2'}"
      ]
     },
     "execution_count": 45,
     "metadata": {},
     "output_type": "execute_result"
    }
   ],
   "source": [
    "my_dict['key1']=123\n",
    "my_dict"
   ]
  },
  {
   "cell_type": "code",
   "execution_count": 46,
   "id": "8955b8e5",
   "metadata": {},
   "outputs": [
    {
     "data": {
      "text/plain": [
       "0"
      ]
     },
     "execution_count": 46,
     "metadata": {},
     "output_type": "execute_result"
    }
   ],
   "source": [
    "# Subtract 123 from the value\n",
    "my_dict['key1'] = my_dict['key1'] - 123\n",
    "#Check\n",
    "my_dict['key1']"
   ]
  },
  {
   "cell_type": "code",
   "execution_count": 47,
   "id": "dd633847",
   "metadata": {},
   "outputs": [
    {
     "data": {
      "text/plain": [
       "123"
      ]
     },
     "execution_count": 47,
     "metadata": {},
     "output_type": "execute_result"
    }
   ],
   "source": [
    "# Set the object equal to itself minus 123 \n",
    "my_dict['key1'] += 123\n",
    "my_dict['key1']"
   ]
  },
  {
   "cell_type": "code",
   "execution_count": 48,
   "id": "64310af6",
   "metadata": {},
   "outputs": [],
   "source": [
    "#sets\n",
    "l_sets = set(my_list)"
   ]
  },
  {
   "cell_type": "code",
   "execution_count": 49,
   "id": "cec3b507",
   "metadata": {},
   "outputs": [
    {
     "name": "stdout",
     "output_type": "stream",
     "text": [
      "{1, 2, 3, 4, 5, 6, 'exam'}\n"
     ]
    }
   ],
   "source": [
    "print(l_sets)"
   ]
  },
  {
   "cell_type": "code",
   "execution_count": 50,
   "id": "45f19daf",
   "metadata": {},
   "outputs": [
    {
     "name": "stdout",
     "output_type": "stream",
     "text": [
      "a is greater than b\n"
     ]
    }
   ],
   "source": [
    "#If-Else\n",
    "a = 6\n",
    "b = 2\n",
    "\n",
    "if a > b:\n",
    "    print(\"a is greater than b\")\n",
    "elif b > a:\n",
    "    # we are inside the elif block\n",
    "    print(\"b is greater than a\")\n",
    "else:\n",
    "    # we are inside the else block\n",
    "    print(\"a and b are equal\")"
   ]
  },
  {
   "cell_type": "code",
   "execution_count": 51,
   "id": "9f664ce5",
   "metadata": {},
   "outputs": [
    {
     "name": "stdout",
     "output_type": "stream",
     "text": [
      "2 4 6 8 10 "
     ]
    }
   ],
   "source": [
    "#For loop\n",
    "\n",
    "list_1 = [2,4,5,6,8,7,9,10] \n",
    "\n",
    "for number in list_1:          \n",
    "    if number % 2 == 0:        \n",
    "        print(number,end=' ')"
   ]
  },
  {
   "cell_type": "code",
   "execution_count": null,
   "id": "6ea39664",
   "metadata": {},
   "outputs": [],
   "source": []
  },
  {
   "cell_type": "code",
   "execution_count": null,
   "id": "f2c4f0b8",
   "metadata": {},
   "outputs": [],
   "source": [
    "#package import\n",
    "# import the math module\n",
    "import math\n",
    "\n",
    "# use the log10 function in the math module\n",
    "math.pow(2,2)"
   ]
  },
  {
   "cell_type": "code",
   "execution_count": null,
   "id": "bff7684b",
   "metadata": {},
   "outputs": [],
   "source": []
  }
 ],
 "metadata": {
  "kernelspec": {
   "display_name": "Python 3",
   "language": "python",
   "name": "python3"
  },
  "language_info": {
   "codemirror_mode": {
    "name": "ipython",
    "version": 3
   },
   "file_extension": ".py",
   "mimetype": "text/x-python",
   "name": "python",
   "nbconvert_exporter": "python",
   "pygments_lexer": "ipython3",
   "version": "3.8.8"
  }
 },
 "nbformat": 4,
 "nbformat_minor": 5
}
