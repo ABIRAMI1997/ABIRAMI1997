{
 "cells": [
  {
   "cell_type": "code",
   "execution_count": 38,
   "id": "2624eabe",
   "metadata": {},
   "outputs": [
    {
     "name": "stdout",
     "output_type": "stream",
     "text": [
      "   Duration          Date  Pulse  Maxpulse  Calories\n",
      "0        45  '2020/12/18'     90     112.0       NaN\n",
      "1        45           NaN    100     119.0     282.0\n",
      "2        60  '2020/12/23'    130     101.0     300.0\n",
      "3        45  '2020/12/24'    105     132.0     246.0\n",
      "4        60  '2020/12/25'    102     126.0     334.5\n",
      "5        60    '20201226'    100     120.0     250.0\n",
      "6        60  '2020/12/27'     92     118.0     241.0\n",
      "7        60  '2020/12/27'     92     118.0     241.0\n"
     ]
    }
   ],
   "source": [
    "import pandas as pd\n",
    "#Reading from csv file\n",
    "df_csv = pd.read_csv('C:/Users/ABIRAMI/OneDrive/Documents/2023-job_search/GIT-Repos/testing_data.txt')\n",
    "#df_csv_res = df_csv.to_csv('C:/Users/ABIRAMI/OneDrive/Documents/2023-job_search/GIT-Repos/testing_data.txt', index=None) #text to csv\n",
    "pd.options.display.max_rows = 9999 #Without this the default will be displaying first and last 5 rows and header in df statement\n",
    "print(df_csv.to_string()) \n",
    "#print(df_csv)"
   ]
  },
  {
   "cell_type": "code",
   "execution_count": 39,
   "id": "52500510",
   "metadata": {},
   "outputs": [
    {
     "name": "stdout",
     "output_type": "stream",
     "text": [
      "   Duration          Date  Pulse  Maxpulse  Calories\n",
      "2        60  '2020/12/23'    130     101.0     300.0\n",
      "3        45  '2020/12/24'    105     132.0     246.0\n",
      "4        60  '2020/12/25'    102     126.0     334.5\n",
      "5        60    '20201226'    100     120.0     250.0\n",
      "6        60  '2020/12/27'     92     118.0     241.0\n",
      "7        60  '2020/12/27'     92     118.0     241.0\n"
     ]
    }
   ],
   "source": [
    "#data cleaning in pandas\n",
    "#this will create a new data frame \n",
    "new_df = df_csv.dropna()\n",
    "\n",
    "print(new_df.to_string())\n",
    "\n",
    "#this will replace the exsiting one\n",
    "#df_csv.dropna(inplace = True)\n",
    "\n",
    "#print(df_csv.to_string())"
   ]
  },
  {
   "cell_type": "code",
   "execution_count": 60,
   "id": "e6cb3f17",
   "metadata": {},
   "outputs": [],
   "source": [
    "#replace with new value\n",
    "x= df_csv.fillna(130) #for all columns\n",
    "y= df_csv[\"Calories\"].fillna(130) #for specific column"
   ]
  },
  {
   "cell_type": "code",
   "execution_count": 42,
   "id": "a16ac3a2",
   "metadata": {},
   "outputs": [
    {
     "name": "stdout",
     "output_type": "stream",
     "text": [
      "0    130.0\n",
      "1    282.0\n",
      "2    300.0\n",
      "3    246.0\n",
      "4    334.5\n",
      "5    250.0\n",
      "6    241.0\n",
      "7    241.0\n",
      "Name: Calories, dtype: float64\n"
     ]
    }
   ],
   "source": [
    "print(x)\n",
    "print(y)"
   ]
  },
  {
   "cell_type": "code",
   "execution_count": 59,
   "id": "48c3bd9a",
   "metadata": {},
   "outputs": [
    {
     "name": "stdout",
     "output_type": "stream",
     "text": [
      "   Duration       Date  Pulse  Maxpulse  Calories\n",
      "0       120 2020-12-18     90     112.0       NaN\n",
      "1       120        NaT    100     119.0     282.0\n",
      "2        60 2020-12-23    130     101.0     300.0\n",
      "3       120 2020-12-24    105     132.0     246.0\n",
      "4        60 2020-12-25    102     126.0     334.5\n",
      "5        60 2020-12-26    100     120.0     250.0\n",
      "6        60 2020-12-27     92     118.0     241.0\n"
     ]
    }
   ],
   "source": [
    "#covnvert data column to correct format\n",
    "df_csv['Date'] = pd.to_datetime(df_csv['Date'])\n",
    "print(df_csv.to_string())"
   ]
  },
  {
   "cell_type": "code",
   "execution_count": 46,
   "id": "1679851b",
   "metadata": {},
   "outputs": [
    {
     "name": "stdout",
     "output_type": "stream",
     "text": [
      "   Duration       Date  Pulse  Maxpulse  Calories\n",
      "0        45 2020-12-18     90     112.0       NaN\n",
      "2        60 2020-12-23    130     101.0     300.0\n",
      "3        45 2020-12-24    105     132.0     246.0\n",
      "4        60 2020-12-25    102     126.0     334.5\n",
      "5        60 2020-12-26    100     120.0     250.0\n",
      "6        60 2020-12-27     92     118.0     241.0\n",
      "7        60 2020-12-27     92     118.0     241.0\n"
     ]
    }
   ],
   "source": [
    "#for removing NaT in column date\n",
    "z = df_csv.dropna(subset=['Date'])\n",
    "print(z)"
   ]
  },
  {
   "cell_type": "code",
   "execution_count": 54,
   "id": "efec5a1f",
   "metadata": {},
   "outputs": [
    {
     "name": "stdout",
     "output_type": "stream",
     "text": [
      "   Duration       Date  Pulse  Maxpulse  Calories\n",
      "0       120 2020-12-18     90     112.0       NaN\n",
      "1       120        NaT    100     119.0     282.0\n",
      "2        60 2020-12-23    130     101.0     300.0\n",
      "3       120 2020-12-24    105     132.0     246.0\n",
      "4        60 2020-12-25    102     126.0     334.5\n",
      "5        60 2020-12-26    100     120.0     250.0\n",
      "6        60 2020-12-27     92     118.0     241.0\n",
      "7        60 2020-12-27     92     118.0     241.0\n"
     ]
    }
   ],
   "source": [
    "#replace wrong value\n",
    "result=df_csv.loc[7, 'Duration'] = 60\n",
    "#df_csv.at[1, 'Date'] = '2020/12/19'\n",
    "print(df_csv)"
   ]
  },
  {
   "cell_type": "code",
   "execution_count": 53,
   "id": "08a3a0f5",
   "metadata": {},
   "outputs": [
    {
     "name": "stdout",
     "output_type": "stream",
     "text": [
      "   Duration       Date  Pulse  Maxpulse  Calories\n",
      "0       120 2020-12-18     90     112.0       NaN\n",
      "1       120        NaT    100     119.0     282.0\n",
      "2        60 2020-12-23    130     101.0     300.0\n",
      "3       120 2020-12-24    105     132.0     246.0\n",
      "4        60 2020-12-25    102     126.0     334.5\n",
      "5        60 2020-12-26    100     120.0     250.0\n",
      "6        60 2020-12-27     92     118.0     241.0\n",
      "7       120 2020-12-27     92     118.0     241.0\n"
     ]
    }
   ],
   "source": [
    "#for loop\n",
    "for x in df_csv.index:\n",
    "  if df_csv.loc[x, \"Duration\"] <= 45:\n",
    "    df_csv.loc[x, \"Duration\"] = 120\n",
    "print(df_csv)"
   ]
  },
  {
   "cell_type": "code",
   "execution_count": null,
   "id": "b861a3ef",
   "metadata": {},
   "outputs": [],
   "source": [
    "#for dropping records\n",
    "#for x in df.index:\n",
    "#  if df.loc[x, \"Duration\"] > 120:\n",
    "#    df.drop(x, inplace = True)"
   ]
  },
  {
   "cell_type": "code",
   "execution_count": 58,
   "id": "61fb302e",
   "metadata": {},
   "outputs": [
    {
     "name": "stdout",
     "output_type": "stream",
     "text": [
      "   Duration       Date  Pulse  Maxpulse  Calories\n",
      "0       120 2020-12-18     90     112.0       NaN\n",
      "1       120        NaT    100     119.0     282.0\n",
      "2        60 2020-12-23    130     101.0     300.0\n",
      "3       120 2020-12-24    105     132.0     246.0\n",
      "4        60 2020-12-25    102     126.0     334.5\n",
      "5        60 2020-12-26    100     120.0     250.0\n",
      "6        60 2020-12-27     92     118.0     241.0\n",
      "0    False\n",
      "1    False\n",
      "2    False\n",
      "3    False\n",
      "4    False\n",
      "5    False\n",
      "6    False\n",
      "dtype: bool\n",
      "   Duration       Date  Pulse  Maxpulse  Calories\n",
      "0       120 2020-12-18     90     112.0       NaN\n",
      "1       120        NaT    100     119.0     282.0\n",
      "2        60 2020-12-23    130     101.0     300.0\n",
      "3       120 2020-12-24    105     132.0     246.0\n",
      "4        60 2020-12-25    102     126.0     334.5\n",
      "5        60 2020-12-26    100     120.0     250.0\n",
      "6        60 2020-12-27     92     118.0     241.0\n"
     ]
    }
   ],
   "source": [
    "#to find duplicate records\n",
    "print(df_csv)\n",
    "print(df_csv.duplicated())\n",
    "df_csv.drop_duplicates(inplace = True)\n",
    "print(df_csv)"
   ]
  },
  {
   "cell_type": "code",
   "execution_count": 61,
   "id": "c87763c3",
   "metadata": {},
   "outputs": [
    {
     "data": {
      "text/html": [
       "<div>\n",
       "<style scoped>\n",
       "    .dataframe tbody tr th:only-of-type {\n",
       "        vertical-align: middle;\n",
       "    }\n",
       "\n",
       "    .dataframe tbody tr th {\n",
       "        vertical-align: top;\n",
       "    }\n",
       "\n",
       "    .dataframe thead th {\n",
       "        text-align: right;\n",
       "    }\n",
       "</style>\n",
       "<table border=\"1\" class=\"dataframe\">\n",
       "  <thead>\n",
       "    <tr style=\"text-align: right;\">\n",
       "      <th></th>\n",
       "      <th>Duration</th>\n",
       "      <th>Pulse</th>\n",
       "      <th>Maxpulse</th>\n",
       "      <th>Calories</th>\n",
       "    </tr>\n",
       "  </thead>\n",
       "  <tbody>\n",
       "    <tr>\n",
       "      <th>Duration</th>\n",
       "      <td>1.000000</td>\n",
       "      <td>-0.311052</td>\n",
       "      <td>0.256165</td>\n",
       "      <td>-0.242689</td>\n",
       "    </tr>\n",
       "    <tr>\n",
       "      <th>Pulse</th>\n",
       "      <td>-0.311052</td>\n",
       "      <td>1.000000</td>\n",
       "      <td>-0.471520</td>\n",
       "      <td>0.405549</td>\n",
       "    </tr>\n",
       "    <tr>\n",
       "      <th>Maxpulse</th>\n",
       "      <td>0.256165</td>\n",
       "      <td>-0.471520</td>\n",
       "      <td>1.000000</td>\n",
       "      <td>-0.208963</td>\n",
       "    </tr>\n",
       "    <tr>\n",
       "      <th>Calories</th>\n",
       "      <td>-0.242689</td>\n",
       "      <td>0.405549</td>\n",
       "      <td>-0.208963</td>\n",
       "      <td>1.000000</td>\n",
       "    </tr>\n",
       "  </tbody>\n",
       "</table>\n",
       "</div>"
      ],
      "text/plain": [
       "          Duration     Pulse  Maxpulse  Calories\n",
       "Duration  1.000000 -0.311052  0.256165 -0.242689\n",
       "Pulse    -0.311052  1.000000 -0.471520  0.405549\n",
       "Maxpulse  0.256165 -0.471520  1.000000 -0.208963\n",
       "Calories -0.242689  0.405549 -0.208963  1.000000"
      ]
     },
     "execution_count": 61,
     "metadata": {},
     "output_type": "execute_result"
    }
   ],
   "source": [
    "df_csv.corr()"
   ]
  },
  {
   "cell_type": "code",
   "execution_count": 62,
   "id": "ff4b3f52",
   "metadata": {},
   "outputs": [],
   "source": [
    "import matplotlib.pyplot as plt"
   ]
  },
  {
   "cell_type": "code",
   "execution_count": 66,
   "id": "97ed1d32",
   "metadata": {},
   "outputs": [
    {
     "data": {
      "image/png": "[encoded data removed]",
      "text/plain": [
       "<Figure size 432x288 with 1 Axes>"
      ]
     },
     "metadata": {
      "needs_background": "light"
     },
     "output_type": "display_data"
    }
   ],
   "source": [
    "\n",
    "#df_csv.plot()\n",
    "#df_csv.plot(kind = 'scatter', x = 'Duration', y = 'Calories')\n",
    "df_csv[\"Duration\"].plot(kind = 'hist')\n",
    "\n",
    "plt.show()"
   ]
  },
  {
   "cell_type": "code",
   "execution_count": 28,
   "id": "12d1883d",
   "metadata": {},
   "outputs": [
    {
     "name": "stdout",
     "output_type": "stream",
     "text": [
      "   Duration             Date  Pulse  Maxpulse  Calories\n",
      "0        45     '2020/12/18'     90     112.0     999.0\n",
      "1        45              999    100     119.0     282.0\n",
      "2        60     '2020/12/23'    130     101.0     300.0\n",
      "3        45  '2020/12/24'105    132     246.0     999.0\n",
      "4        60  '2020/12/25'102    126     334.5     999.0\n",
      "5        60       '20201226'    100     120.0     250.0\n",
      "6        60     '2020/12/27'     92     118.0     241.0\n",
      "7        60     '2020/12/27'     92     118.0     241.0\n"
     ]
    }
   ],
   "source": [
    "#Mean, Median, Mode\n",
    "x = df_csv[\"Calories\"].mean()\n",
    "df_csv[\"Calories\"].fillna(x, inplace = True)\n",
    "print(df_csv)"
   ]
  },
  {
   "cell_type": "code",
   "execution_count": null,
   "id": "d09adadd",
   "metadata": {},
   "outputs": [],
   "source": [
    "y = df_csv[\"Calories\"].median()\n",
    "df[\"Calories\"].fillna(y, inplace = True) #inplace will modify in the same dataframe"
   ]
  },
  {
   "cell_type": "code",
   "execution_count": null,
   "id": "4ed3c4c2",
   "metadata": {},
   "outputs": [],
   "source": [
    "z = df_csv[\"Calories\"].mode()[0]\n",
    "df_csv[\"Calories\"].fillna(z, inplace = True)"
   ]
  },
  {
   "cell_type": "code",
   "execution_count": 21,
   "id": "70688178",
   "metadata": {},
   "outputs": [],
   "source": [
    "#drop null values in particular column\n",
    "df_csv.dropna(subset=['Date'], inplace = True)"
   ]
  }
 ],
 "metadata": {
  "kernelspec": {
   "display_name": "Python 3",
   "language": "python",
   "name": "python3"
  },
  "language_info": {
   "codemirror_mode": {
    "name": "ipython",
    "version": 3
   },
   "file_extension": ".py",
   "mimetype": "text/x-python",
   "name": "python",
   "nbconvert_exporter": "python",
   "pygments_lexer": "ipython3",
   "version": "3.8.8"
  }
 },
 "nbformat": 4,
 "nbformat_minor": 5
}
