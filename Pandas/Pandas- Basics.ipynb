{
 "cells": [
  {
   "cell_type": "code",
   "execution_count": 2,
   "id": "da18ca8f",
   "metadata": {},
   "outputs": [],
   "source": [
    "#Pandas Basics- analyzing, cleaning, exploring, and manipulating data.\n",
    "import pandas as pd"
   ]
  },
  {
   "cell_type": "code",
   "execution_count": 3,
   "id": "18a62853",
   "metadata": {},
   "outputs": [
    {
     "name": "stdout",
     "output_type": "stream",
     "text": [
      "1.2.4\n"
     ]
    }
   ],
   "source": [
    "print(pd.__version__)"
   ]
  },
  {
   "cell_type": "code",
   "execution_count": 52,
   "id": "65476bdd",
   "metadata": {},
   "outputs": [],
   "source": [
    "#Index\n",
    "a = [1, 7, 2]\n",
    "\n",
    "myvar = pd.Series(a)\n",
    "\n",
    "print(myvar)\n",
    "print(myvar[0])"
   ]
  },
  {
   "cell_type": "code",
   "execution_count": 51,
   "id": "58093c92",
   "metadata": {},
   "outputs": [],
   "source": [
    "#lables\n",
    "\n",
    "a = [1, 7, 2]\n",
    "\n",
    "myvar = pd.Series(a, index = [\"x\", \"y\", \"z\"])\n",
    "\n",
    "print(myvar)\n",
    "print(myvar[\"y\"])"
   ]
  },
  {
   "cell_type": "code",
   "execution_count": 50,
   "id": "a6266111",
   "metadata": {},
   "outputs": [],
   "source": [
    "#Dictionary - Key: value pair\n",
    "calories = {\"day1\": 420, \"day2\": 380, \"day3\": 390}\n",
    "\n",
    "myvar = pd.Series(calories)\n",
    "\n",
    "print(myvar)"
   ]
  },
  {
   "cell_type": "code",
   "execution_count": 49,
   "id": "810c7e89",
   "metadata": {},
   "outputs": [],
   "source": [
    "calories = {\"day1\": 420, \"day2\": 380, \"day3\": 390}\n",
    "\n",
    "myvar = pd.Series(calories, index = [\"day1\", \"day2\"])\n",
    "\n",
    "print(myvar)"
   ]
  },
  {
   "cell_type": "code",
   "execution_count": null,
   "id": "d2d189b5",
   "metadata": {},
   "outputs": [],
   "source": [
    "#Data Frames\n",
    "#Data sets in Pandas are usually multi-dimensional tables, called DataFrames.\n",
    "#Series is like a column, a DataFrame is the whole table."
   ]
  },
  {
   "cell_type": "code",
   "execution_count": 48,
   "id": "061e8dc3",
   "metadata": {},
   "outputs": [],
   "source": [
    "data = {\n",
    "  \"calories\": [420, 380, 390],\n",
    "  \"duration\": [50, 40, 45]\n",
    "}\n",
    "\n",
    "df = pd.DataFrame(data)\n",
    "\n",
    "print(myvar)"
   ]
  },
  {
   "cell_type": "code",
   "execution_count": 47,
   "id": "3710f4db",
   "metadata": {},
   "outputs": [],
   "source": [
    "print(df.loc[0])"
   ]
  },
  {
   "cell_type": "code",
   "execution_count": 46,
   "id": "38ee4a35",
   "metadata": {},
   "outputs": [],
   "source": [
    "print(df.loc[[0, 1]])"
   ]
  },
  {
   "cell_type": "code",
   "execution_count": 45,
   "id": "2254e5dc",
   "metadata": {},
   "outputs": [],
   "source": [
    "data = {\n",
    "  \"calories\": [420, 380, 390],\n",
    "  \"duration\": [50, 40, 45]\n",
    "}\n",
    "\n",
    "df = pd.DataFrame(data, index = [\"day1\", \"day2\", \"day3\"])\n",
    "\n",
    "print(df) "
   ]
  },
  {
   "cell_type": "code",
   "execution_count": 44,
   "id": "1f3b7513",
   "metadata": {},
   "outputs": [],
   "source": [
    "print(df.loc[\"day2\"])"
   ]
  },
  {
   "cell_type": "code",
   "execution_count": 39,
   "id": "074fb49f",
   "metadata": {},
   "outputs": [],
   "source": [
    "#Reading from csv file\n",
    "df = pd.read_csv('C:/Users/ABIRAMI/OneDrive/Documents/2023-job_search/GIT-Repos/data.csv')\n",
    "pd.options.display.max_rows = 9999 ##Without this the default will be displaying first and last 5 rows and header in df statement\n",
    "print(df.to_string()) \n",
    "print(df)"
   ]
  },
  {
   "cell_type": "code",
   "execution_count": 31,
   "id": "a6673e07",
   "metadata": {},
   "outputs": [
    {
     "name": "stdout",
     "output_type": "stream",
     "text": [
      "9999\n"
     ]
    }
   ],
   "source": [
    "print(pd.options.display.max_rows)"
   ]
  },
  {
   "cell_type": "code",
   "execution_count": 40,
   "id": "62574af6",
   "metadata": {},
   "outputs": [],
   "source": [
    "#Reading json file\n",
    "df = pd.read_json('C:/Users/ABIRAMI/OneDrive/Documents/2023-job_search/GIT-Repos/datainjson.json')\n",
    "\n",
    "print(df.to_string()) "
   ]
  },
  {
   "cell_type": "code",
   "execution_count": 41,
   "id": "c3c3c98e",
   "metadata": {},
   "outputs": [],
   "source": [
    "#Analysis\n",
    "print(df.head(10))"
   ]
  },
  {
   "cell_type": "code",
   "execution_count": 42,
   "id": "17ed7698",
   "metadata": {},
   "outputs": [],
   "source": [
    "print(df.tail()) "
   ]
  },
  {
   "cell_type": "code",
   "execution_count": 43,
   "id": "266e8cc9",
   "metadata": {},
   "outputs": [],
   "source": [
    "print(df.info()) #We can find out number of null values in column from here"
   ]
  },
  {
   "cell_type": "code",
   "execution_count": null,
   "id": "c214ed8f",
   "metadata": {},
   "outputs": [],
   "source": []
  }
 ],
 "metadata": {
  "kernelspec": {
   "display_name": "Python 3",
   "language": "python",
   "name": "python3"
  },
  "language_info": {
   "codemirror_mode": {
    "name": "ipython",
    "version": 3
   },
   "file_extension": ".py",
   "mimetype": "text/x-python",
   "name": "python",
   "nbconvert_exporter": "python",
   "pygments_lexer": "ipython3",
   "version": "3.8.8"
  }
 },
 "nbformat": 4,
 "nbformat_minor": 5
}
