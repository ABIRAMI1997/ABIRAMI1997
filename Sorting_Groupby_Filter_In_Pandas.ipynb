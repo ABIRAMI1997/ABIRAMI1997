{
 "cells": [
  {
   "cell_type": "code",
   "execution_count": 1,
   "id": "600a2a00",
   "metadata": {},
   "outputs": [
    {
     "name": "stdout",
     "output_type": "stream",
     "text": [
      "   Duration          Date  Pulse  Maxpulse  Calories\n",
      "0        45  '2020/12/18'     90     112.0       NaN\n",
      "1        45           NaN    100     119.0     282.0\n",
      "2        60  '2020/12/23'    130     101.0     300.0\n",
      "3        45  '2020/12/24'    105     132.0     246.0\n",
      "4        60  '2020/12/25'    102     126.0     334.5\n",
      "5        60    '20201226'    100     120.0     250.0\n",
      "6        60  '2020/12/27'     92     118.0     241.0\n",
      "7        60  '2020/12/27'     92     118.0     241.0\n"
     ]
    }
   ],
   "source": [
    "import pandas as pd\n",
    "#Reading from csv file\n",
    "df_csv = pd.read_csv('C:/Users/ABIRAMI/OneDrive/Documents/2023-job_search/GIT-Repos/testing_data.txt')\n",
    "#df_csv_res = df_csv.to_csv('C:/Users/ABIRAMI/OneDrive/Documents/2023-job_search/GIT-Repos/testing_data.txt', index=None) #text to csv\n",
    "pd.options.display.max_rows = 9999 #Without this the default will be displaying first and last 5 rows and header in df statement\n",
    "print(df_csv.to_string()) \n",
    "#print(df_csv)"
   ]
  },
  {
   "cell_type": "code",
   "execution_count": 6,
   "id": "fd14a77f",
   "metadata": {},
   "outputs": [
    {
     "data": {
      "text/html": [
       "<div>\n",
       "<style scoped>\n",
       "    .dataframe tbody tr th:only-of-type {\n",
       "        vertical-align: middle;\n",
       "    }\n",
       "\n",
       "    .dataframe tbody tr th {\n",
       "        vertical-align: top;\n",
       "    }\n",
       "\n",
       "    .dataframe thead th {\n",
       "        text-align: right;\n",
       "    }\n",
       "</style>\n",
       "<table border=\"1\" class=\"dataframe\">\n",
       "  <thead>\n",
       "    <tr style=\"text-align: right;\">\n",
       "      <th></th>\n",
       "      <th>Calories</th>\n",
       "    </tr>\n",
       "  </thead>\n",
       "  <tbody>\n",
       "    <tr>\n",
       "      <th>6</th>\n",
       "      <td>241.0</td>\n",
       "    </tr>\n",
       "    <tr>\n",
       "      <th>7</th>\n",
       "      <td>241.0</td>\n",
       "    </tr>\n",
       "  </tbody>\n",
       "</table>\n",
       "</div>"
      ],
      "text/plain": [
       "   Calories\n",
       "6     241.0\n",
       "7     241.0"
      ]
     },
     "execution_count": 6,
     "metadata": {},
     "output_type": "execute_result"
    }
   ],
   "source": [
    "#Sorting\n",
    "df_csv.sort_values(by=['Calories'], ascending=[True], inplace=True)\n",
    "#select only few columns to display\n",
    "df_csv[['Calories']].head(2)"
   ]
  },
  {
   "cell_type": "code",
   "execution_count": 9,
   "id": "54dbedb0",
   "metadata": {},
   "outputs": [
    {
     "data": {
      "text/plain": [
       "4    334.5\n",
       "2    300.0\n",
       "1    282.0\n",
       "5    250.0\n",
       "Name: Calories, dtype: float64"
      ]
     },
     "execution_count": 9,
     "metadata": {},
     "output_type": "execute_result"
    }
   ],
   "source": [
    "#highest salary limit by 4 records\n",
    "['Calories'].nlargest(4)"
   ]
  },
  {
   "cell_type": "code",
   "execution_count": 11,
   "id": "bae425e5",
   "metadata": {},
   "outputs": [
    {
     "data": {
      "text/html": [
       "<div>\n",
       "<style scoped>\n",
       "    .dataframe tbody tr th:only-of-type {\n",
       "        vertical-align: middle;\n",
       "    }\n",
       "\n",
       "    .dataframe tbody tr th {\n",
       "        vertical-align: top;\n",
       "    }\n",
       "\n",
       "    .dataframe thead th {\n",
       "        text-align: right;\n",
       "    }\n",
       "</style>\n",
       "<table border=\"1\" class=\"dataframe\">\n",
       "  <thead>\n",
       "    <tr style=\"text-align: right;\">\n",
       "      <th></th>\n",
       "      <th>Duration</th>\n",
       "      <th>Date</th>\n",
       "      <th>Pulse</th>\n",
       "      <th>Maxpulse</th>\n",
       "      <th>Calories</th>\n",
       "    </tr>\n",
       "  </thead>\n",
       "  <tbody>\n",
       "    <tr>\n",
       "      <th>6</th>\n",
       "      <td>60</td>\n",
       "      <td>'2020/12/27'</td>\n",
       "      <td>92</td>\n",
       "      <td>118.0</td>\n",
       "      <td>241.0</td>\n",
       "    </tr>\n",
       "    <tr>\n",
       "      <th>7</th>\n",
       "      <td>60</td>\n",
       "      <td>'2020/12/27'</td>\n",
       "      <td>92</td>\n",
       "      <td>118.0</td>\n",
       "      <td>241.0</td>\n",
       "    </tr>\n",
       "    <tr>\n",
       "      <th>3</th>\n",
       "      <td>45</td>\n",
       "      <td>'2020/12/24'</td>\n",
       "      <td>105</td>\n",
       "      <td>132.0</td>\n",
       "      <td>246.0</td>\n",
       "    </tr>\n",
       "    <tr>\n",
       "      <th>5</th>\n",
       "      <td>60</td>\n",
       "      <td>'20201226'</td>\n",
       "      <td>100</td>\n",
       "      <td>120.0</td>\n",
       "      <td>250.0</td>\n",
       "    </tr>\n",
       "  </tbody>\n",
       "</table>\n",
       "</div>"
      ],
      "text/plain": [
       "   Duration          Date  Pulse  Maxpulse  Calories\n",
       "6        60  '2020/12/27'     92     118.0     241.0\n",
       "7        60  '2020/12/27'     92     118.0     241.0\n",
       "3        45  '2020/12/24'    105     132.0     246.0\n",
       "5        60    '20201226'    100     120.0     250.0"
      ]
     },
     "execution_count": 11,
     "metadata": {},
     "output_type": "execute_result"
    }
   ],
   "source": [
    "#display all columns\n",
    "df_csv.nsmallest(4, 'Calories')"
   ]
  },
  {
   "cell_type": "code",
   "execution_count": 13,
   "id": "34b5121d",
   "metadata": {},
   "outputs": [
    {
     "data": {
      "text/plain": [
       "7"
      ]
     },
     "execution_count": 13,
     "metadata": {},
     "output_type": "execute_result"
    }
   ],
   "source": [
    "#to get row count\n",
    "df_csv['Calories'].count() ## the original file has 8 rows but 7 rows has value for calories"
   ]
  },
  {
   "cell_type": "code",
   "execution_count": 14,
   "id": "031bd349",
   "metadata": {},
   "outputs": [
    {
     "data": {
      "text/html": [
       "<div>\n",
       "<style scoped>\n",
       "    .dataframe tbody tr th:only-of-type {\n",
       "        vertical-align: middle;\n",
       "    }\n",
       "\n",
       "    .dataframe tbody tr th {\n",
       "        vertical-align: top;\n",
       "    }\n",
       "\n",
       "    .dataframe thead th {\n",
       "        text-align: right;\n",
       "    }\n",
       "</style>\n",
       "<table border=\"1\" class=\"dataframe\">\n",
       "  <thead>\n",
       "    <tr style=\"text-align: right;\">\n",
       "      <th></th>\n",
       "      <th>Duration</th>\n",
       "      <th>Pulse</th>\n",
       "      <th>Maxpulse</th>\n",
       "      <th>Calories</th>\n",
       "    </tr>\n",
       "  </thead>\n",
       "  <tbody>\n",
       "    <tr>\n",
       "      <th>count</th>\n",
       "      <td>8.000000</td>\n",
       "      <td>8.00000</td>\n",
       "      <td>8.000000</td>\n",
       "      <td>7.000000</td>\n",
       "    </tr>\n",
       "    <tr>\n",
       "      <th>mean</th>\n",
       "      <td>54.375000</td>\n",
       "      <td>101.37500</td>\n",
       "      <td>118.250000</td>\n",
       "      <td>270.642857</td>\n",
       "    </tr>\n",
       "    <tr>\n",
       "      <th>std</th>\n",
       "      <td>7.763238</td>\n",
       "      <td>12.77204</td>\n",
       "      <td>9.176834</td>\n",
       "      <td>36.192442</td>\n",
       "    </tr>\n",
       "    <tr>\n",
       "      <th>min</th>\n",
       "      <td>45.000000</td>\n",
       "      <td>90.00000</td>\n",
       "      <td>101.000000</td>\n",
       "      <td>241.000000</td>\n",
       "    </tr>\n",
       "    <tr>\n",
       "      <th>25%</th>\n",
       "      <td>45.000000</td>\n",
       "      <td>92.00000</td>\n",
       "      <td>116.500000</td>\n",
       "      <td>243.500000</td>\n",
       "    </tr>\n",
       "    <tr>\n",
       "      <th>50%</th>\n",
       "      <td>60.000000</td>\n",
       "      <td>100.00000</td>\n",
       "      <td>118.500000</td>\n",
       "      <td>250.000000</td>\n",
       "    </tr>\n",
       "    <tr>\n",
       "      <th>75%</th>\n",
       "      <td>60.000000</td>\n",
       "      <td>102.75000</td>\n",
       "      <td>121.500000</td>\n",
       "      <td>291.000000</td>\n",
       "    </tr>\n",
       "    <tr>\n",
       "      <th>max</th>\n",
       "      <td>60.000000</td>\n",
       "      <td>130.00000</td>\n",
       "      <td>132.000000</td>\n",
       "      <td>334.500000</td>\n",
       "    </tr>\n",
       "  </tbody>\n",
       "</table>\n",
       "</div>"
      ],
      "text/plain": [
       "        Duration      Pulse    Maxpulse    Calories\n",
       "count   8.000000    8.00000    8.000000    7.000000\n",
       "mean   54.375000  101.37500  118.250000  270.642857\n",
       "std     7.763238   12.77204    9.176834   36.192442\n",
       "min    45.000000   90.00000  101.000000  241.000000\n",
       "25%    45.000000   92.00000  116.500000  243.500000\n",
       "50%    60.000000  100.00000  118.500000  250.000000\n",
       "75%    60.000000  102.75000  121.500000  291.000000\n",
       "max    60.000000  130.00000  132.000000  334.500000"
      ]
     },
     "execution_count": 14,
     "metadata": {},
     "output_type": "execute_result"
    }
   ],
   "source": [
    "df_csv.describe()"
   ]
  },
  {
   "cell_type": "code",
   "execution_count": 16,
   "id": "be5e339a",
   "metadata": {},
   "outputs": [
    {
     "data": {
      "text/plain": [
       "241.0    2\n",
       "246.0    1\n",
       "300.0    1\n",
       "250.0    1\n",
       "282.0    1\n",
       "334.5    1\n",
       "Name: Calories, dtype: int64"
      ]
     },
     "execution_count": 16,
     "metadata": {},
     "output_type": "execute_result"
    }
   ],
   "source": [
    "df_csv['Calories'].value_counts()"
   ]
  },
  {
   "cell_type": "code",
   "execution_count": null,
   "id": "d606dbb8",
   "metadata": {},
   "outputs": [],
   "source": [
    "#Group By in pandas"
   ]
  }
 ],
 "metadata": {
  "kernelspec": {
   "display_name": "Python 3",
   "language": "python",
   "name": "python3"
  },
  "language_info": {
   "codemirror_mode": {
    "name": "ipython",
    "version": 3
   },
   "file_extension": ".py",
   "mimetype": "text/x-python",
   "name": "python",
   "nbconvert_exporter": "python",
   "pygments_lexer": "ipython3",
   "version": "3.8.8"
  }
 },
 "nbformat": 4,
 "nbformat_minor": 5
}
