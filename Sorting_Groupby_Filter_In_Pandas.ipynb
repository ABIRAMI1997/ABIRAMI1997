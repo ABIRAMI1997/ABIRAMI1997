{
 "cells": [
  {
   "cell_type": "code",
   "execution_count": 1,
   "id": "3aa7e77c",
   "metadata": {},
   "outputs": [
    {
     "name": "stdout",
     "output_type": "stream",
     "text": [
      "   Duration          Date  Pulse  Maxpulse  Calories\n",
      "0        45  '2020/12/18'     90     112.0       NaN\n",
      "1        45           NaN    100     119.0     282.0\n",
      "2        60  '2020/12/23'    130     101.0     300.0\n",
      "3        45  '2020/12/24'    105     132.0     246.0\n",
      "4        60  '2020/12/25'    102     126.0     334.5\n",
      "5        60    '20201226'    100     120.0     250.0\n",
      "6        60  '2020/12/27'     92     118.0     241.0\n",
      "7        60  '2020/12/27'     92     118.0     241.0\n"
     ]
    }
   ],
   "source": [
    "import pandas as pd\n",
    "#Reading from csv file\n",
    "df_csv = pd.read_csv('C:/Users/ABIRAMI/OneDrive/Documents/2023-job_search/GIT-Repos/testing_data.txt')\n",
    "#df_csv_res = df_csv.to_csv('C:/Users/ABIRAMI/OneDrive/Documents/2023-job_search/GIT-Repos/testing_data.txt', index=None) #text to csv\n",
    "pd.options.display.max_rows = 9999 #Without this the default will be displaying first and last 5 rows and header in df statement\n",
    "print(df_csv.to_string()) \n",
    "#print(df_csv)"
   ]
  },
  {
   "cell_type": "code",
   "execution_count": 85,
   "id": "a92a4130",
   "metadata": {},
   "outputs": [
    {
     "data": {
      "text/html": [
       "<div>\n",
       "<style scoped>\n",
       "    .dataframe tbody tr th:only-of-type {\n",
       "        vertical-align: middle;\n",
       "    }\n",
       "\n",
       "    .dataframe tbody tr th {\n",
       "        vertical-align: top;\n",
       "    }\n",
       "\n",
       "    .dataframe thead th {\n",
       "        text-align: right;\n",
       "    }\n",
       "</style>\n",
       "<table border=\"1\" class=\"dataframe\">\n",
       "  <thead>\n",
       "    <tr style=\"text-align: right;\">\n",
       "      <th></th>\n",
       "      <th>Duration</th>\n",
       "      <th>Date</th>\n",
       "      <th>Pulse</th>\n",
       "      <th>Maxpulse</th>\n",
       "      <th>Calories</th>\n",
       "      <th>res</th>\n",
       "    </tr>\n",
       "  </thead>\n",
       "  <tbody>\n",
       "    <tr>\n",
       "      <th>6</th>\n",
       "      <td>60</td>\n",
       "      <td>'2020/12/27'</td>\n",
       "      <td>92</td>\n",
       "      <td>118.0</td>\n",
       "      <td>241.0</td>\n",
       "      <td>2600.0</td>\n",
       "    </tr>\n",
       "    <tr>\n",
       "      <th>7</th>\n",
       "      <td>60</td>\n",
       "      <td>'2020/12/27'</td>\n",
       "      <td>92</td>\n",
       "      <td>118.0</td>\n",
       "      <td>241.0</td>\n",
       "      <td>2600.0</td>\n",
       "    </tr>\n",
       "    <tr>\n",
       "      <th>3</th>\n",
       "      <td>45</td>\n",
       "      <td>'2020/12/24'</td>\n",
       "      <td>105</td>\n",
       "      <td>132.0</td>\n",
       "      <td>246.0</td>\n",
       "      <td>2700.0</td>\n",
       "    </tr>\n",
       "    <tr>\n",
       "      <th>5</th>\n",
       "      <td>60</td>\n",
       "      <td>'20201226'</td>\n",
       "      <td>100</td>\n",
       "      <td>120.0</td>\n",
       "      <td>250.0</td>\n",
       "      <td>2000.0</td>\n",
       "    </tr>\n",
       "    <tr>\n",
       "      <th>1</th>\n",
       "      <td>45</td>\n",
       "      <td>NaN</td>\n",
       "      <td>100</td>\n",
       "      <td>119.0</td>\n",
       "      <td>282.0</td>\n",
       "      <td>1900.0</td>\n",
       "    </tr>\n",
       "    <tr>\n",
       "      <th>2</th>\n",
       "      <td>60</td>\n",
       "      <td>'2020/12/23'</td>\n",
       "      <td>130</td>\n",
       "      <td>101.0</td>\n",
       "      <td>300.0</td>\n",
       "      <td>-2900.0</td>\n",
       "    </tr>\n",
       "    <tr>\n",
       "      <th>4</th>\n",
       "      <td>60</td>\n",
       "      <td>'2020/12/25'</td>\n",
       "      <td>102</td>\n",
       "      <td>126.0</td>\n",
       "      <td>334.5</td>\n",
       "      <td>2400.0</td>\n",
       "    </tr>\n",
       "    <tr>\n",
       "      <th>0</th>\n",
       "      <td>45</td>\n",
       "      <td>'2020/12/18'</td>\n",
       "      <td>90</td>\n",
       "      <td>112.0</td>\n",
       "      <td>NaN</td>\n",
       "      <td>2200.0</td>\n",
       "    </tr>\n",
       "  </tbody>\n",
       "</table>\n",
       "</div>"
      ],
      "text/plain": [
       "   Duration          Date  Pulse  Maxpulse  Calories     res\n",
       "6        60  '2020/12/27'     92     118.0     241.0  2600.0\n",
       "7        60  '2020/12/27'     92     118.0     241.0  2600.0\n",
       "3        45  '2020/12/24'    105     132.0     246.0  2700.0\n",
       "5        60    '20201226'    100     120.0     250.0  2000.0\n",
       "1        45           NaN    100     119.0     282.0  1900.0\n",
       "2        60  '2020/12/23'    130     101.0     300.0 -2900.0\n",
       "4        60  '2020/12/25'    102     126.0     334.5  2400.0\n",
       "0        45  '2020/12/18'     90     112.0       NaN  2200.0"
      ]
     },
     "execution_count": 85,
     "metadata": {},
     "output_type": "execute_result"
    }
   ],
   "source": [
    "df_csv['res']=(df_csv['Maxpulse']-df_csv['Pulse'])*100\n",
    "df_csv"
   ]
  },
  {
   "cell_type": "code",
   "execution_count": null,
   "id": "d83b7991",
   "metadata": {},
   "outputs": [],
   "source": [
    "df_csv.sort_values(by='res', ascending=False, inplace=True)"
   ]
  },
  {
   "cell_type": "code",
   "execution_count": 6,
   "id": "cba5bc49",
   "metadata": {},
   "outputs": [
    {
     "data": {
      "text/html": [
       "<div>\n",
       "<style scoped>\n",
       "    .dataframe tbody tr th:only-of-type {\n",
       "        vertical-align: middle;\n",
       "    }\n",
       "\n",
       "    .dataframe tbody tr th {\n",
       "        vertical-align: top;\n",
       "    }\n",
       "\n",
       "    .dataframe thead th {\n",
       "        text-align: right;\n",
       "    }\n",
       "</style>\n",
       "<table border=\"1\" class=\"dataframe\">\n",
       "  <thead>\n",
       "    <tr style=\"text-align: right;\">\n",
       "      <th></th>\n",
       "      <th>Calories</th>\n",
       "    </tr>\n",
       "  </thead>\n",
       "  <tbody>\n",
       "    <tr>\n",
       "      <th>6</th>\n",
       "      <td>241.0</td>\n",
       "    </tr>\n",
       "    <tr>\n",
       "      <th>7</th>\n",
       "      <td>241.0</td>\n",
       "    </tr>\n",
       "  </tbody>\n",
       "</table>\n",
       "</div>"
      ],
      "text/plain": [
       "   Calories\n",
       "6     241.0\n",
       "7     241.0"
      ]
     },
     "execution_count": 6,
     "metadata": {},
     "output_type": "execute_result"
    }
   ],
   "source": [
    "#Sorting\n",
    "df_csv.sort_values(by=['Calories'], ascending=[True], inplace=True)\n",
    "#select only few columns to display\n",
    "df_csv[['Calories']].head(2)"
   ]
  },
  {
   "cell_type": "code",
   "execution_count": 9,
   "id": "872a830a",
   "metadata": {},
   "outputs": [
    {
     "data": {
      "text/plain": [
       "4    334.5\n",
       "2    300.0\n",
       "1    282.0\n",
       "5    250.0\n",
       "Name: Calories, dtype: float64"
      ]
     },
     "execution_count": 9,
     "metadata": {},
     "output_type": "execute_result"
    }
   ],
   "source": [
    "#highest salary limit by 4 records\n",
    "['Calories'].nlargest(4)"
   ]
  },
  {
   "cell_type": "code",
   "execution_count": 11,
   "id": "dc829fcd",
   "metadata": {},
   "outputs": [
    {
     "data": {
      "text/html": [
       "<div>\n",
       "<style scoped>\n",
       "    .dataframe tbody tr th:only-of-type {\n",
       "        vertical-align: middle;\n",
       "    }\n",
       "\n",
       "    .dataframe tbody tr th {\n",
       "        vertical-align: top;\n",
       "    }\n",
       "\n",
       "    .dataframe thead th {\n",
       "        text-align: right;\n",
       "    }\n",
       "</style>\n",
       "<table border=\"1\" class=\"dataframe\">\n",
       "  <thead>\n",
       "    <tr style=\"text-align: right;\">\n",
       "      <th></th>\n",
       "      <th>Duration</th>\n",
       "      <th>Date</th>\n",
       "      <th>Pulse</th>\n",
       "      <th>Maxpulse</th>\n",
       "      <th>Calories</th>\n",
       "    </tr>\n",
       "  </thead>\n",
       "  <tbody>\n",
       "    <tr>\n",
       "      <th>6</th>\n",
       "      <td>60</td>\n",
       "      <td>'2020/12/27'</td>\n",
       "      <td>92</td>\n",
       "      <td>118.0</td>\n",
       "      <td>241.0</td>\n",
       "    </tr>\n",
       "    <tr>\n",
       "      <th>7</th>\n",
       "      <td>60</td>\n",
       "      <td>'2020/12/27'</td>\n",
       "      <td>92</td>\n",
       "      <td>118.0</td>\n",
       "      <td>241.0</td>\n",
       "    </tr>\n",
       "    <tr>\n",
       "      <th>3</th>\n",
       "      <td>45</td>\n",
       "      <td>'2020/12/24'</td>\n",
       "      <td>105</td>\n",
       "      <td>132.0</td>\n",
       "      <td>246.0</td>\n",
       "    </tr>\n",
       "    <tr>\n",
       "      <th>5</th>\n",
       "      <td>60</td>\n",
       "      <td>'20201226'</td>\n",
       "      <td>100</td>\n",
       "      <td>120.0</td>\n",
       "      <td>250.0</td>\n",
       "    </tr>\n",
       "  </tbody>\n",
       "</table>\n",
       "</div>"
      ],
      "text/plain": [
       "   Duration          Date  Pulse  Maxpulse  Calories\n",
       "6        60  '2020/12/27'     92     118.0     241.0\n",
       "7        60  '2020/12/27'     92     118.0     241.0\n",
       "3        45  '2020/12/24'    105     132.0     246.0\n",
       "5        60    '20201226'    100     120.0     250.0"
      ]
     },
     "execution_count": 11,
     "metadata": {},
     "output_type": "execute_result"
    }
   ],
   "source": [
    "#display all columns\n",
    "df_csv.nsmallest(4, 'Calories')"
   ]
  },
  {
   "cell_type": "code",
   "execution_count": 13,
   "id": "63ba6b53",
   "metadata": {},
   "outputs": [
    {
     "data": {
      "text/plain": [
       "7"
      ]
     },
     "execution_count": 13,
     "metadata": {},
     "output_type": "execute_result"
    }
   ],
   "source": [
    "#to get row count\n",
    "df_csv['Calories'].count() ## the original file has 8 rows but 7 rows has value for calories"
   ]
  },
  {
   "cell_type": "code",
   "execution_count": 14,
   "id": "8a3f7d3f",
   "metadata": {},
   "outputs": [
    {
     "data": {
      "text/html": [
       "<div>\n",
       "<style scoped>\n",
       "    .dataframe tbody tr th:only-of-type {\n",
       "        vertical-align: middle;\n",
       "    }\n",
       "\n",
       "    .dataframe tbody tr th {\n",
       "        vertical-align: top;\n",
       "    }\n",
       "\n",
       "    .dataframe thead th {\n",
       "        text-align: right;\n",
       "    }\n",
       "</style>\n",
       "<table border=\"1\" class=\"dataframe\">\n",
       "  <thead>\n",
       "    <tr style=\"text-align: right;\">\n",
       "      <th></th>\n",
       "      <th>Duration</th>\n",
       "      <th>Pulse</th>\n",
       "      <th>Maxpulse</th>\n",
       "      <th>Calories</th>\n",
       "    </tr>\n",
       "  </thead>\n",
       "  <tbody>\n",
       "    <tr>\n",
       "      <th>count</th>\n",
       "      <td>8.000000</td>\n",
       "      <td>8.00000</td>\n",
       "      <td>8.000000</td>\n",
       "      <td>7.000000</td>\n",
       "    </tr>\n",
       "    <tr>\n",
       "      <th>mean</th>\n",
       "      <td>54.375000</td>\n",
       "      <td>101.37500</td>\n",
       "      <td>118.250000</td>\n",
       "      <td>270.642857</td>\n",
       "    </tr>\n",
       "    <tr>\n",
       "      <th>std</th>\n",
       "      <td>7.763238</td>\n",
       "      <td>12.77204</td>\n",
       "      <td>9.176834</td>\n",
       "      <td>36.192442</td>\n",
       "    </tr>\n",
       "    <tr>\n",
       "      <th>min</th>\n",
       "      <td>45.000000</td>\n",
       "      <td>90.00000</td>\n",
       "      <td>101.000000</td>\n",
       "      <td>241.000000</td>\n",
       "    </tr>\n",
       "    <tr>\n",
       "      <th>25%</th>\n",
       "      <td>45.000000</td>\n",
       "      <td>92.00000</td>\n",
       "      <td>116.500000</td>\n",
       "      <td>243.500000</td>\n",
       "    </tr>\n",
       "    <tr>\n",
       "      <th>50%</th>\n",
       "      <td>60.000000</td>\n",
       "      <td>100.00000</td>\n",
       "      <td>118.500000</td>\n",
       "      <td>250.000000</td>\n",
       "    </tr>\n",
       "    <tr>\n",
       "      <th>75%</th>\n",
       "      <td>60.000000</td>\n",
       "      <td>102.75000</td>\n",
       "      <td>121.500000</td>\n",
       "      <td>291.000000</td>\n",
       "    </tr>\n",
       "    <tr>\n",
       "      <th>max</th>\n",
       "      <td>60.000000</td>\n",
       "      <td>130.00000</td>\n",
       "      <td>132.000000</td>\n",
       "      <td>334.500000</td>\n",
       "    </tr>\n",
       "  </tbody>\n",
       "</table>\n",
       "</div>"
      ],
      "text/plain": [
       "        Duration      Pulse    Maxpulse    Calories\n",
       "count   8.000000    8.00000    8.000000    7.000000\n",
       "mean   54.375000  101.37500  118.250000  270.642857\n",
       "std     7.763238   12.77204    9.176834   36.192442\n",
       "min    45.000000   90.00000  101.000000  241.000000\n",
       "25%    45.000000   92.00000  116.500000  243.500000\n",
       "50%    60.000000  100.00000  118.500000  250.000000\n",
       "75%    60.000000  102.75000  121.500000  291.000000\n",
       "max    60.000000  130.00000  132.000000  334.500000"
      ]
     },
     "execution_count": 14,
     "metadata": {},
     "output_type": "execute_result"
    }
   ],
   "source": [
    "df_csv.describe()"
   ]
  },
  {
   "cell_type": "code",
   "execution_count": 16,
   "id": "5fc3d39e",
   "metadata": {},
   "outputs": [
    {
     "data": {
      "text/plain": [
       "241.0    2\n",
       "246.0    1\n",
       "300.0    1\n",
       "250.0    1\n",
       "282.0    1\n",
       "334.5    1\n",
       "Name: Calories, dtype: int64"
      ]
     },
     "execution_count": 16,
     "metadata": {},
     "output_type": "execute_result"
    }
   ],
   "source": [
    "df_csv['Calories'].value_counts()"
   ]
  },
  {
   "cell_type": "code",
   "execution_count": 37,
   "id": "f853205d",
   "metadata": {},
   "outputs": [],
   "source": [
    "#Group By in pandas\n",
    "Duration_group = df_csv.groupby(['Duration'])"
   ]
  },
  {
   "cell_type": "code",
   "execution_count": 39,
   "id": "b99634cc",
   "metadata": {},
   "outputs": [
    {
     "data": {
      "text/html": [
       "<div>\n",
       "<style scoped>\n",
       "    .dataframe tbody tr th:only-of-type {\n",
       "        vertical-align: middle;\n",
       "    }\n",
       "\n",
       "    .dataframe tbody tr th {\n",
       "        vertical-align: top;\n",
       "    }\n",
       "\n",
       "    .dataframe thead th {\n",
       "        text-align: right;\n",
       "    }\n",
       "</style>\n",
       "<table border=\"1\" class=\"dataframe\">\n",
       "  <thead>\n",
       "    <tr style=\"text-align: right;\">\n",
       "      <th></th>\n",
       "      <th>Duration</th>\n",
       "      <th>Date</th>\n",
       "      <th>Pulse</th>\n",
       "      <th>Maxpulse</th>\n",
       "      <th>Calories</th>\n",
       "    </tr>\n",
       "  </thead>\n",
       "  <tbody>\n",
       "    <tr>\n",
       "      <th>6</th>\n",
       "      <td>60</td>\n",
       "      <td>'2020/12/27'</td>\n",
       "      <td>92</td>\n",
       "      <td>118.0</td>\n",
       "      <td>241.0</td>\n",
       "    </tr>\n",
       "    <tr>\n",
       "      <th>7</th>\n",
       "      <td>60</td>\n",
       "      <td>'2020/12/27'</td>\n",
       "      <td>92</td>\n",
       "      <td>118.0</td>\n",
       "      <td>241.0</td>\n",
       "    </tr>\n",
       "    <tr>\n",
       "      <th>5</th>\n",
       "      <td>60</td>\n",
       "      <td>'20201226'</td>\n",
       "      <td>100</td>\n",
       "      <td>120.0</td>\n",
       "      <td>250.0</td>\n",
       "    </tr>\n",
       "    <tr>\n",
       "      <th>2</th>\n",
       "      <td>60</td>\n",
       "      <td>'2020/12/23'</td>\n",
       "      <td>130</td>\n",
       "      <td>101.0</td>\n",
       "      <td>300.0</td>\n",
       "    </tr>\n",
       "    <tr>\n",
       "      <th>4</th>\n",
       "      <td>60</td>\n",
       "      <td>'2020/12/25'</td>\n",
       "      <td>102</td>\n",
       "      <td>126.0</td>\n",
       "      <td>334.5</td>\n",
       "    </tr>\n",
       "  </tbody>\n",
       "</table>\n",
       "</div>"
      ],
      "text/plain": [
       "   Duration          Date  Pulse  Maxpulse  Calories\n",
       "6        60  '2020/12/27'     92     118.0     241.0\n",
       "7        60  '2020/12/27'     92     118.0     241.0\n",
       "5        60    '20201226'    100     120.0     250.0\n",
       "2        60  '2020/12/23'    130     101.0     300.0\n",
       "4        60  '2020/12/25'    102     126.0     334.5"
      ]
     },
     "execution_count": 39,
     "metadata": {},
     "output_type": "execute_result"
    }
   ],
   "source": [
    "Duration_group.get_group(60)"
   ]
  },
  {
   "cell_type": "code",
   "execution_count": 42,
   "id": "00574fec",
   "metadata": {},
   "outputs": [
    {
     "data": {
      "text/plain": [
       "92     2\n",
       "130    1\n",
       "100    1\n",
       "102    1\n",
       "Name: Pulse, dtype: int64"
      ]
     },
     "execution_count": 42,
     "metadata": {},
     "output_type": "execute_result"
    }
   ],
   "source": [
    "#filter in pandas\n",
    "filt = df_csv['Duration'] == 60\n",
    "df_csv.loc[filt]['Pulse'].value_counts()"
   ]
  },
  {
   "cell_type": "code",
   "execution_count": 43,
   "id": "6505d07f",
   "metadata": {},
   "outputs": [
    {
     "data": {
      "text/plain": [
       "100"
      ]
     },
     "execution_count": 43,
     "metadata": {},
     "output_type": "execute_result"
    }
   ],
   "source": [
    "#median for a group object\n",
    "Duration_group['Pulse'].median().loc[60]"
   ]
  },
  {
   "cell_type": "code",
   "execution_count": 46,
   "id": "25b8fdf2",
   "metadata": {},
   "outputs": [],
   "source": [
    "#Record count for a string in that particular group\n",
    "with_date=df_csv.loc[filt]['Date'].str.contains('2020/12/25').sum()\n"
   ]
  },
  {
   "cell_type": "code",
   "execution_count": 52,
   "id": "e6bfae80",
   "metadata": {},
   "outputs": [],
   "source": [
    "#Have to apply in all groups in the series\n",
    "for_all_year=country_grp['Date'].apply(lambda x: x.str.contains('27').sum())"
   ]
  },
  {
   "cell_type": "code",
   "execution_count": 50,
   "id": "e6176e0e",
   "metadata": {},
   "outputs": [
    {
     "data": {
      "text/plain": [
       "'2020/12/27'    2\n",
       "'2020/12/23'    1\n",
       "'2020/12/25'    1\n",
       "'2020/12/18'    1\n",
       "'2020/12/24'    1\n",
       "'20201226'      1\n",
       "Name: Date, dtype: int64"
      ]
     },
     "execution_count": 50,
     "metadata": {},
     "output_type": "execute_result"
    }
   ],
   "source": [
    "total_count = df_csv['Date'].value_counts()\n",
    "total_count"
   ]
  },
  {
   "cell_type": "code",
   "execution_count": 69,
   "id": "777dd182",
   "metadata": {},
   "outputs": [
    {
     "data": {
      "text/html": [
       "<div>\n",
       "<style scoped>\n",
       "    .dataframe tbody tr th:only-of-type {\n",
       "        vertical-align: middle;\n",
       "    }\n",
       "\n",
       "    .dataframe tbody tr th {\n",
       "        vertical-align: top;\n",
       "    }\n",
       "\n",
       "    .dataframe thead th {\n",
       "        text-align: right;\n",
       "    }\n",
       "</style>\n",
       "<table border=\"1\" class=\"dataframe\">\n",
       "  <thead>\n",
       "    <tr style=\"text-align: right;\">\n",
       "      <th></th>\n",
       "      <th>Date</th>\n",
       "      <th>Date</th>\n",
       "    </tr>\n",
       "  </thead>\n",
       "  <tbody>\n",
       "    <tr>\n",
       "      <th>'2020/12/27'</th>\n",
       "      <td>2</td>\n",
       "      <td>2</td>\n",
       "    </tr>\n",
       "    <tr>\n",
       "      <th>'2020/12/23'</th>\n",
       "      <td>1</td>\n",
       "      <td>0</td>\n",
       "    </tr>\n",
       "    <tr>\n",
       "      <th>'2020/12/25'</th>\n",
       "      <td>1</td>\n",
       "      <td>0</td>\n",
       "    </tr>\n",
       "    <tr>\n",
       "      <th>'2020/12/18'</th>\n",
       "      <td>1</td>\n",
       "      <td>0</td>\n",
       "    </tr>\n",
       "    <tr>\n",
       "      <th>'2020/12/24'</th>\n",
       "      <td>1</td>\n",
       "      <td>0</td>\n",
       "    </tr>\n",
       "    <tr>\n",
       "      <th>'20201226'</th>\n",
       "      <td>1</td>\n",
       "      <td>0</td>\n",
       "    </tr>\n",
       "  </tbody>\n",
       "</table>\n",
       "</div>"
      ],
      "text/plain": [
       "              Date  Date\n",
       "'2020/12/27'     2     2\n",
       "'2020/12/23'     1     0\n",
       "'2020/12/25'     1     0\n",
       "'2020/12/18'     1     0\n",
       "'2020/12/24'     1     0\n",
       "'20201226'       1     0"
      ]
     },
     "execution_count": 69,
     "metadata": {},
     "output_type": "execute_result"
    }
   ],
   "source": [
    "#No of sepecific values in group to total counts in group\n",
    "#Example: Total number of persons to the number of persons who uses python\n",
    "python_df = pd.concat([total_count, for_all_year], axis='columns', sort=False)\n",
    "python_df"
   ]
  },
  {
   "cell_type": "code",
   "execution_count": 67,
   "id": "79cd4d90",
   "metadata": {},
   "outputs": [
    {
     "name": "stdout",
     "output_type": "stream",
     "text": [
      "              Total  Total\n",
      "'2020/12/27'      2      2\n",
      "'2020/12/23'      1      0\n",
      "'2020/12/25'      1      0\n",
      "'2020/12/18'      1      0\n",
      "'2020/12/24'      1      0\n",
      "'20201226'        1      0\n"
     ]
    }
   ],
   "source": [
    "#Rename particular column name\n",
    "python_df.rename(columns={'Date': 'Total'}, inplace=True)\n",
    "print(python_df)"
   ]
  },
  {
   "cell_type": "code",
   "execution_count": null,
   "id": "0fb903da",
   "metadata": {},
   "outputs": [],
   "source": []
  }
 ],
 "metadata": {
  "kernelspec": {
   "display_name": "Python 3",
   "language": "python",
   "name": "python3"
  },
  "language_info": {
   "codemirror_mode": {
    "name": "ipython",
    "version": 3
   },
   "file_extension": ".py",
   "mimetype": "text/x-python",
   "name": "python",
   "nbconvert_exporter": "python",
   "pygments_lexer": "ipython3",
   "version": "3.8.8"
  }
 },
 "nbformat": 4,
 "nbformat_minor": 5
}
